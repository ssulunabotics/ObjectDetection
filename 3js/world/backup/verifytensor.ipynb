{
 "cells": [
  {
   "cell_type": "code",
   "execution_count": 1,
   "metadata": {},
   "outputs": [
    {
     "ename": "FileNotFoundError",
     "evalue": "[Errno 2] No such file or directory: './test/tensor_data-4.json'",
     "output_type": "error",
     "traceback": [
      "\u001b[0;31m---------------------------------------------------------------------------\u001b[0m",
      "\u001b[0;31mFileNotFoundError\u001b[0m                         Traceback (most recent call last)",
      "Cell \u001b[0;32mIn[1], line 12\u001b[0m\n\u001b[1;32m      9\u001b[0m model \u001b[38;5;241m=\u001b[39m YOLO(\u001b[38;5;124m'\u001b[39m\u001b[38;5;124myolov8n.pt\u001b[39m\u001b[38;5;124m'\u001b[39m)\n\u001b[1;32m     11\u001b[0m \u001b[38;5;66;03m# Load the tensor data\u001b[39;00m\n\u001b[0;32m---> 12\u001b[0m \u001b[38;5;28;01mwith\u001b[39;00m \u001b[38;5;28;43mopen\u001b[39;49m\u001b[43m(\u001b[49m\u001b[38;5;124;43m'\u001b[39;49m\u001b[38;5;124;43m./test/tensor_data-4.json\u001b[39;49m\u001b[38;5;124;43m'\u001b[39;49m\u001b[43m,\u001b[49m\u001b[43m \u001b[49m\u001b[38;5;124;43m'\u001b[39;49m\u001b[38;5;124;43mr\u001b[39;49m\u001b[38;5;124;43m'\u001b[39;49m\u001b[43m)\u001b[49m \u001b[38;5;28;01mas\u001b[39;00m f:\n\u001b[1;32m     13\u001b[0m     tensor_data \u001b[38;5;241m=\u001b[39m np\u001b[38;5;241m.\u001b[39marray(json\u001b[38;5;241m.\u001b[39mload(f), dtype\u001b[38;5;241m=\u001b[39mnp\u001b[38;5;241m.\u001b[39mfloat32)\n\u001b[1;32m     15\u001b[0m \u001b[38;5;28mprint\u001b[39m(\u001b[38;5;124m\"\u001b[39m\u001b[38;5;124mTensor data shape:\u001b[39m\u001b[38;5;124m\"\u001b[39m, tensor_data\u001b[38;5;241m.\u001b[39mshape)\n",
      "File \u001b[0;32m/opt/homebrew/lib/python3.11/site-packages/IPython/core/interactiveshell.py:324\u001b[0m, in \u001b[0;36m_modified_open\u001b[0;34m(file, *args, **kwargs)\u001b[0m\n\u001b[1;32m    317\u001b[0m \u001b[38;5;28;01mif\u001b[39;00m file \u001b[38;5;129;01min\u001b[39;00m {\u001b[38;5;241m0\u001b[39m, \u001b[38;5;241m1\u001b[39m, \u001b[38;5;241m2\u001b[39m}:\n\u001b[1;32m    318\u001b[0m     \u001b[38;5;28;01mraise\u001b[39;00m \u001b[38;5;167;01mValueError\u001b[39;00m(\n\u001b[1;32m    319\u001b[0m         \u001b[38;5;124mf\u001b[39m\u001b[38;5;124m\"\u001b[39m\u001b[38;5;124mIPython won\u001b[39m\u001b[38;5;124m'\u001b[39m\u001b[38;5;124mt let you open fd=\u001b[39m\u001b[38;5;132;01m{\u001b[39;00mfile\u001b[38;5;132;01m}\u001b[39;00m\u001b[38;5;124m by default \u001b[39m\u001b[38;5;124m\"\u001b[39m\n\u001b[1;32m    320\u001b[0m         \u001b[38;5;124m\"\u001b[39m\u001b[38;5;124mas it is likely to crash IPython. If you know what you are doing, \u001b[39m\u001b[38;5;124m\"\u001b[39m\n\u001b[1;32m    321\u001b[0m         \u001b[38;5;124m\"\u001b[39m\u001b[38;5;124myou can use builtins\u001b[39m\u001b[38;5;124m'\u001b[39m\u001b[38;5;124m open.\u001b[39m\u001b[38;5;124m\"\u001b[39m\n\u001b[1;32m    322\u001b[0m     )\n\u001b[0;32m--> 324\u001b[0m \u001b[38;5;28;01mreturn\u001b[39;00m \u001b[43mio_open\u001b[49m\u001b[43m(\u001b[49m\u001b[43mfile\u001b[49m\u001b[43m,\u001b[49m\u001b[43m \u001b[49m\u001b[38;5;241;43m*\u001b[39;49m\u001b[43margs\u001b[49m\u001b[43m,\u001b[49m\u001b[43m \u001b[49m\u001b[38;5;241;43m*\u001b[39;49m\u001b[38;5;241;43m*\u001b[39;49m\u001b[43mkwargs\u001b[49m\u001b[43m)\u001b[49m\n",
      "\u001b[0;31mFileNotFoundError\u001b[0m: [Errno 2] No such file or directory: './test/tensor_data-4.json'"
     ]
    }
   ],
   "source": [
    "from ultralytics import YOLO\n",
    "import matplotlib.pyplot as plt\n",
    "from PIL import Image\n",
    "import numpy as np\n",
    "import json\n",
    "import torch\n",
    "\n",
    "# Load a pre-trained YOLOv8n model\n",
    "model = YOLO('yolov8n.pt')\n",
    "\n",
    "# Load the tensor data\n",
    "with open('./test/tensor_data-4.json', 'r') as f:\n",
    "    tensor_data = np.array(json.load(f), dtype=np.float32)\n",
    "\n",
    "print(\"Tensor data shape:\", tensor_data.shape)\n",
    "\n",
    "# Remove the batch dimension\n",
    "tensor_data = tensor_data[0]  # Shape becomes (640, 640, 3)\n",
    "\n",
    "# Convert the tensor back to a Torch tensor and reshape it\n",
    "tensor = torch.tensor(tensor_data).permute(2, 0, 1).unsqueeze(0)  # Convert HWC -> CHW -> BCHW\n",
    "\n",
    "# Perform inference using the tensor\n",
    "results = model.predict(source=tensor)\n",
    "\n",
    "# Load the original image for visualization\n",
    "original_image = Image.open('./test/webgl_image-4.png')\n",
    "original_width, original_height = original_image.size\n",
    "image_np = np.array(original_image)\n",
    "\n",
    "# Get YOLO input size\n",
    "yolo_input_size = tensor_data.shape[:2]  # (640, 640)\n",
    "\n",
    "# Plot the image with bounding boxes\n",
    "plt.figure(figsize=(10, 10))\n",
    "plt.imshow(image_np)\n",
    "\n",
    "# Draw bounding boxes from the predictions\n",
    "for bbox in results[0].boxes:\n",
    "    x1, y1, x2, y2 = bbox.xyxy[0].tolist()  # Extract bounding box coordinates\n",
    "    confidence = bbox.conf[0].item()  # Extract confidence score\n",
    "    label = bbox.cls[0].item()  # Extract class label\n",
    "\n",
    "    # Scale bounding box coordinates back to original image dimensions\n",
    "    x1 = x1 * (original_width / yolo_input_size[1])\n",
    "    y1 = y1 * (original_height / yolo_input_size[0])\n",
    "    x2 = x2 * (original_width / yolo_input_size[1])\n",
    "    y2 = y2 * (original_height / yolo_input_size[0])\n",
    "\n",
    "    # Draw the rectangle\n",
    "    plt.gca().add_patch(plt.Rectangle(\n",
    "        (x1, y1), x2 - x1, y2 - y1, fill=False, edgecolor='red', linewidth=2\n",
    "    ))\n",
    "\n",
    "    # Add label and confidence\n",
    "    plt.text(x1, y1 - 5, f'{int(label)} {confidence:.2f}', color='red',\n",
    "             fontsize=10, bbox=dict(facecolor='white', alpha=0.5, edgecolor='none'))\n",
    "\n",
    "plt.axis('off')\n",
    "plt.show()"
   ]
  }
 ],
 "metadata": {
  "kernelspec": {
   "display_name": "tflabsfall24",
   "language": "python",
   "name": "python3"
  },
  "language_info": {
   "codemirror_mode": {
    "name": "ipython",
    "version": 3
   },
   "file_extension": ".py",
   "mimetype": "text/x-python",
   "name": "python",
   "nbconvert_exporter": "python",
   "pygments_lexer": "ipython3",
   "version": "3.11.10"
  }
 },
 "nbformat": 4,
 "nbformat_minor": 2
}
